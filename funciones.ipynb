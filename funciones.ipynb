{
 "cells": [
  {
   "cell_type": "code",
   "execution_count": null,
   "id": "a64ef401",
   "metadata": {},
   "outputs": [
    {
     "name": "stdout",
     "output_type": "stream",
     "text": [
      "[ 1. -7.  0.  4.]\n"
     ]
    }
   ],
   "source": [
    "import numpy as np\n",
    "\n",
    "matriz_L=np.array([[1,0,0,0],[0,1,0,0],[2,1,1,0],[-3,0,0,1]])\n",
    "vector_b=np.array([1,-7,-5,1])\n",
    "\n",
    "def y_calculator2(L, b):\n",
    "    n = L.shape[0]\n",
    "    y = np.zeros(n)\n",
    "    for i in range(n):\n",
    "        value = b[i]\n",
    "        for j in range(i):\n",
    "            value = value - L[i][j] * y[j]\n",
    "        y[i] = value / L[i][i]\n",
    "    return y\n",
    "\n",
    "def x_calculator(U, y):\n",
    "    n = U.shape[0]\n",
    "    x = np.zeros(n)\n",
    "    for i in range(n - 1, -1, -1):  \n",
    "        value = y[i]\n",
    "        for j in range(i + 1, n):\n",
    "            value = value - U[i][j] * x[j]\n",
    "        x[i] = value / U[i][i]\n",
    "    return x\n",
    "\n",
    "\n",
    "\n",
    "def elim_gaussiana(A):\n",
    "    cant_op = 0\n",
    "    m=A.shape[0]\n",
    "    n=A.shape[1]\n",
    "    Ac = A.copy()\n",
    "    \n",
    "    if m!=n:\n",
    "        print('Matriz no cuadrada')\n",
    "        return\n",
    "    \n",
    "    for i in range(n - 1):\n",
    "        for f in range(i + 1, n):\n",
    "            divisor = Ac[f][i] / Ac[i][i]\n",
    "            Ac[f][i] = divisor  \n",
    "            for c in range(i + 1, n):  \n",
    "                Ac[f][c] = Ac[f][c] - divisor * Ac[i][c]\n",
    "\n",
    "            \n",
    "    L = np.tril(Ac,-1) + np.eye(A.shape[0]) \n",
    "    U = np.triu(Ac)\n",
    "    \n",
    "    return L, U, cant_op\n",
    "\n",
    "print(y_calculator2(matriz_L, vector_b))"
   ]
  },
  {
   "cell_type": "code",
   "execution_count": null,
   "id": "4f768050",
   "metadata": {},
   "outputs": [],
   "source": []
  }
 ],
 "metadata": {
  "kernelspec": {
   "display_name": "base",
   "language": "python",
   "name": "python3"
  },
  "language_info": {
   "codemirror_mode": {
    "name": "ipython",
    "version": 3
   },
   "file_extension": ".py",
   "mimetype": "text/x-python",
   "name": "python",
   "nbconvert_exporter": "python",
   "pygments_lexer": "ipython3",
   "version": "3.12.7"
  }
 },
 "nbformat": 4,
 "nbformat_minor": 5
}
